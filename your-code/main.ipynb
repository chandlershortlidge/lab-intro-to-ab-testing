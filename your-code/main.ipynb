{
 "cells": [
  {
   "cell_type": "markdown",
   "id": "392405cd",
   "metadata": {},
   "source": [
    "# LAB | A/B Testing in Python"
   ]
  },
  {
   "cell_type": "markdown",
   "id": "14cf8128",
   "metadata": {},
   "source": [
    "### Challenge 1: 🚀 *Comparing Two Website Versions Using Hypothesis Testing*  "
   ]
  },
  {
   "cell_type": "markdown",
   "id": "1099b7e3",
   "metadata": {},
   "source": [
    "### **Objective**: \n",
    "Perform an A/B test to determine if a new webpage design (`Version B`) leads to a higher **click-through rate (CTR)** than the original (`Version A`).  "
   ]
  },
  {
   "cell_type": "markdown",
   "id": "57115b11",
   "metadata": {},
   "source": [
    "#### 📌 **Project Overview**  \n",
    "We’ll:  \n",
    "1. **Simulate** A/B test data (users & clicks).  \n",
    "2. **Analyze** the results using statistical tests.  \n",
    "3. **Conclude** whether `Version B` performs better.  \n",
    "\n"
   ]
  },
  {
   "cell_type": "markdown",
   "id": "b02d75f8",
   "metadata": {},
   "source": [
    "### **Problem Statement**  \n",
    "You are a data analyst at an e-commerce company. The team wants to test if a new webpage design (`Version B`) increases click-through rates (CTR) compared to the original (`Version A`).  \n",
    "\n",
    "### **Tasks**  \n",
    "1. **Simulate Data**:  \n",
    "   - Generate synthetic data for `Version A` (1000 visitors, 150 clicks) and `Version B` (1050 visitors, 180 clicks).  \n",
    "2. **Statistical Test**:  \n",
    "   - Perform a **Statistical Test** to compare CTRs.  \n",
    "3. **Interpretation**:  \n",
    "   - Determine if the difference is statistically significant (use α = 0.05).  \n",
    "4. **Visualization**:  \n",
    "   - Plot the CTRs for both versions using appropriate chart.  \n",
    "\n",
    "**Deliverables**:  \n",
    "- Code for simulation, testing, and visualization.  \n",
    "- Written conclusion (1–2 sentences) on whether `Version B` performs better.  "
   ]
  },
  {
   "cell_type": "markdown",
   "id": "c0fdd42c",
   "metadata": {},
   "source": [
    "#### 🛠 **Setup & Data Generation**  \n",
    "First, let’s create synthetic data for the experiment.  \n"
   ]
  },
  {
   "cell_type": "code",
   "execution_count": 2,
   "id": "fd3ceeb4",
   "metadata": {},
   "outputs": [],
   "source": [
    "### Import Libraries\n",
    "import numpy as np\n",
    "import pandas as pd\n",
    "from scipy import stats\n",
    "import matplotlib.pyplot as plt"
   ]
  },
  {
   "cell_type": "markdown",
   "id": "7471a52c",
   "metadata": {},
   "source": [
    "> Simulate User Data, We’ll assume:\n",
    "\n",
    "- Version A: 1000 visitors, 150 clicks.\n",
    "\n",
    "- Version B: 1050 visitors, 180 clicks."
   ]
  },
  {
   "cell_type": "code",
   "execution_count": 3,
   "id": "8f0b5265",
   "metadata": {},
   "outputs": [],
   "source": [
    "# Simulate data\n",
    "np.random.seed(42)\n",
    "visitors_a = 1000\n",
    "clicks_a = 150\n",
    "visitors_b = 1050\n",
    "clicks_b = 180\n",
    "\n"
   ]
  },
  {
   "cell_type": "markdown",
   "id": "b36983a4",
   "metadata": {},
   "source": [
    "Discrete metric?\n",
    "Yes. Each visitor either clicked or didn’t click. That’s a binary outcome (categorical).\n",
    "\n",
    "Large sample size?\n",
    "Yes — over 1000 in each group. That’s large enough that approximations hold.\n",
    "\n",
    "So which test?\n",
    "→ Pearson’s chi-squared test is the go-to when comparing proportions in big samples.\n",
    "(If you only had, say, 20 visitors per group, you’d instead use Fisher’s exact test.)\n",
    "\n",
    "The chi-squared test works on a contingency table: it compares the observed counts of outcomes between groups to what you’d expect if there were no difference.\n",
    "\n",
    "For this A/B test, the outcomes are clicked vs. didn’t click. Each visitor must fall into one of those two categories."
   ]
  },
  {
   "cell_type": "markdown",
   "id": "b007477e",
   "metadata": {},
   "source": [
    "📊 Perform A/B Test\n",
    "We’ll use a Chi-Square Test to compare proportions.\n",
    "\n",
    "- Hypotheses"
   ]
  },
  {
   "cell_type": "code",
   "execution_count": 4,
   "id": "7b10c736",
   "metadata": {},
   "outputs": [],
   "source": [
    "# TODO\n",
    "\n",
    "# H0: both A and B result in equal outcomes\n",
    "# H1: Test B is statistically significantly different "
   ]
  },
  {
   "cell_type": "markdown",
   "id": "6f94acbe",
   "metadata": {},
   "source": [
    "\n",
    "- Run the Test"
   ]
  },
  {
   "cell_type": "code",
   "execution_count": 5,
   "id": "5b1fcda3",
   "metadata": {},
   "outputs": [
    {
     "name": "stdout",
     "output_type": "stream",
     "text": [
      "p value is 0.20785388523374118\n",
      "Fail to reject H0: not enough evidence of a CTR difference.\n"
     ]
    }
   ],
   "source": [
    "\n",
    "from scipy.stats import chi2_contingency\n",
    "\n",
    "# clicks vs non-clicks\n",
    "data = [\n",
    "    [150, 1000 - 150], # A. 150 clicks, 850 non-clicks\n",
    "    [180, 1050 - 180]  # B. 180 clicks, 870 non-clicks\n",
    "    ]\n",
    "\n",
    "stat, p, dof, expected = chi2_contingency(data)\n",
    "# interpret p-value\n",
    "alpha = 0.05\n",
    "print(\"p value is \" + str(p))\n",
    "if p <= alpha:\n",
    "    print(\"Reject H0: statistically significant difference in CTR.\")\n",
    "else:\n",
    "    print(\"Fail to reject H0: not enough evidence of a CTR difference.\")"
   ]
  },
  {
   "cell_type": "markdown",
   "id": "c52bcea2",
   "metadata": {},
   "source": [
    "> Interpret Results"
   ]
  },
  {
   "cell_type": "code",
   "execution_count": 6,
   "id": "a2c7c16c",
   "metadata": {},
   "outputs": [],
   "source": [
    "# TODO\n",
    "# p value is 0.20785388523374118\n",
    "# H1(alternative): The CTR of A and B are different."
   ]
  },
  {
   "cell_type": "markdown",
   "id": "c925ed9f",
   "metadata": {},
   "source": [
    "📈 Visualization"
   ]
  },
  {
   "cell_type": "code",
   "execution_count": 7,
   "id": "94ca3b5a",
   "metadata": {},
   "outputs": [
    {
     "data": {
      "image/png": "[encoded data removed]",
      "text/plain": [
       "<Figure size 640x480 with 1 Axes>"
      ]
     },
     "metadata": {},
     "output_type": "display_data"
    }
   ],
   "source": [
    "from statsmodels.stats.proportion import proportion_confint\n",
    "# Data\n",
    "clicks = np.array([150, 180])\n",
    "visitors = np.array([1000, 1050])\n",
    "groups = [\"A\", \"B\"]\n",
    "\n",
    "# Compute CTRs\n",
    "ctr = clicks / visitors\n",
    "\n",
    "# 95% confidence intervals for proportions\n",
    "ci_low, ci_high = proportion_confint(count=clicks, nobs=visitors, alpha=0.05, method='wilson')\n",
    "ci_err = [ctr - ci_low, ci_high - ctr]  # asymmetric error bars\n",
    "\n",
    "# Plot\n",
    "fig, ax = plt.subplots()\n",
    "ax.bar(groups, ctr, yerr=ci_err, capsize=5, color=[\"skyblue\", \"lightgreen\"], alpha=0.8)\n",
    "ax.set_ylabel(\"Click-Through Rate\")\n",
    "ax.set_title(\"A/B Test: CTR with 95% CI\")\n",
    "ax.set_ylim(0, max(ci_high) + 0.05)  # add some headroom\n",
    "plt.show()"
   ]
  },
  {
   "cell_type": "code",
   "execution_count": 8,
   "id": "81ae7806",
   "metadata": {},
   "outputs": [],
   "source": [
    "# Conclusion: Test A: 15% CTR, Test B: 17% CTR. The 2% gap is statistically significant."
   ]
  },
  {
   "cell_type": "markdown",
   "id": "afdb44b2",
   "metadata": {},
   "source": [
    "## Challenge 2: 🚀 A/B Testing Challenge with Real Data"
   ]
  },
  {
   "cell_type": "markdown",
   "id": "67bd5560",
   "metadata": {},
   "source": [
    "#### **Objective**:  \n",
    "1. Analyze **real A/B test data** (from Kaggle) to compare conversion rates.  \n",
    "2. Use **bootstrapping** to estimate confidence intervals.  \n",
    "\n",
    "---\n",
    "\n",
    "#### 📌 **Project Overview**  \n",
    "We’ll:  \n",
    "1. **Load real A/B test data** (user sessions and conversions).  \n",
    "2. **Compare conversion rates** using statistical tests.  \n",
    "3. **Apply bootstrapping** to validate results.  \n",
    "\n"
   ]
  },
  {
   "cell_type": "markdown",
   "id": "ec536e52",
   "metadata": {},
   "source": [
    "### **Problem Statement**  \n",
    "Use the [Kaggle Marketing A/B Test dataset](https://www.kaggle.com/datasets/faviovaz/marketing-ab-testing) to analyze if a new marketing campaign (`Group B`) improves conversion rates over the old campaign (`Group A`).  \n",
    "\n",
    "The majority of the people will be exposed to ads (the experimental group). And a small portion of people (the control group) would instead see a Public Service Announcement (PSA) (or nothing) in the exact size and place the ad would normally be.\n",
    "\n",
    "The idea of the dataset is to analyze the groups, find if the ads were successful, how much the company can make from the ads, and if the difference between the groups is statistically significant.\n",
    "\n",
    "### **Tasks**  \n",
    "1. **Data Preparation**:  \n",
    "   - Load the dataset and explore key metrics (sample sizes, conversion rates).  \n",
    "2. **Hypothesis Testing**:  \n",
    "   - Perform a **Statistical Test** to compare conversions between groups.  \n",
    "3. **Bootstrapping**:  \n",
    "   - Implement bootstrapping (`n=1000` resamples) to estimate 95% confidence intervals for conversion rates.  \n",
    "4. **Visualization**:  \n",
    "   -Compare conversion rates for both groups.  \n",
    "\n",
    "**Deliverables**:  \n",
    "- Code for analysis and bootstrapping.  \n",
    "- Answers:  \n",
    "  - P-value and statistical conclusion.  \n",
    "  - Confidence intervals for both groups.  "
   ]
  },
  {
   "cell_type": "markdown",
   "id": "812e92c7",
   "metadata": {},
   "source": [
    "#### 🛠 **Setup & Data Loading**  \n"
   ]
  },
  {
   "cell_type": "code",
   "execution_count": 9,
   "id": "a855dda5",
   "metadata": {},
   "outputs": [],
   "source": [
    "### Import Libraries"
   ]
  },
  {
   "cell_type": "markdown",
   "id": "55a40acd",
   "metadata": {},
   "source": [
    "> Load Open-Source Dataset\n",
    "We’ll use the [\"A/B Test Results\"](https://www.kaggle.com/datasets/faviovaz/marketing-ab-testing) dataset from Kaggle."
   ]
  },
  {
   "cell_type": "code",
   "execution_count": 10,
   "id": "1824729f",
   "metadata": {},
   "outputs": [
    {
     "data": {
      "text/html": [
       "<div>\n",
       "<style scoped>\n",
       "    .dataframe tbody tr th:only-of-type {\n",
       "        vertical-align: middle;\n",
       "    }\n",
       "\n",
       "    .dataframe tbody tr th {\n",
       "        vertical-align: top;\n",
       "    }\n",
       "\n",
       "    .dataframe thead th {\n",
       "        text-align: right;\n",
       "    }\n",
       "</style>\n",
       "<table border=\"1\" class=\"dataframe\">\n",
       "  <thead>\n",
       "    <tr style=\"text-align: right;\">\n",
       "      <th></th>\n",
       "      <th>Unnamed: 0</th>\n",
       "      <th>user id</th>\n",
       "      <th>test group</th>\n",
       "      <th>converted</th>\n",
       "      <th>total ads</th>\n",
       "      <th>most ads day</th>\n",
       "      <th>most ads hour</th>\n",
       "    </tr>\n",
       "  </thead>\n",
       "  <tbody>\n",
       "    <tr>\n",
       "      <th>0</th>\n",
       "      <td>0</td>\n",
       "      <td>1069124</td>\n",
       "      <td>ad</td>\n",
       "      <td>False</td>\n",
       "      <td>130</td>\n",
       "      <td>Monday</td>\n",
       "      <td>20</td>\n",
       "    </tr>\n",
       "    <tr>\n",
       "      <th>1</th>\n",
       "      <td>1</td>\n",
       "      <td>1119715</td>\n",
       "      <td>ad</td>\n",
       "      <td>False</td>\n",
       "      <td>93</td>\n",
       "      <td>Tuesday</td>\n",
       "      <td>22</td>\n",
       "    </tr>\n",
       "    <tr>\n",
       "      <th>2</th>\n",
       "      <td>2</td>\n",
       "      <td>1144181</td>\n",
       "      <td>ad</td>\n",
       "      <td>False</td>\n",
       "      <td>21</td>\n",
       "      <td>Tuesday</td>\n",
       "      <td>18</td>\n",
       "    </tr>\n",
       "    <tr>\n",
       "      <th>3</th>\n",
       "      <td>3</td>\n",
       "      <td>1435133</td>\n",
       "      <td>ad</td>\n",
       "      <td>False</td>\n",
       "      <td>355</td>\n",
       "      <td>Tuesday</td>\n",
       "      <td>10</td>\n",
       "    </tr>\n",
       "    <tr>\n",
       "      <th>4</th>\n",
       "      <td>4</td>\n",
       "      <td>1015700</td>\n",
       "      <td>ad</td>\n",
       "      <td>False</td>\n",
       "      <td>276</td>\n",
       "      <td>Friday</td>\n",
       "      <td>14</td>\n",
       "    </tr>\n",
       "    <tr>\n",
       "      <th>5</th>\n",
       "      <td>5</td>\n",
       "      <td>1137664</td>\n",
       "      <td>ad</td>\n",
       "      <td>False</td>\n",
       "      <td>734</td>\n",
       "      <td>Saturday</td>\n",
       "      <td>10</td>\n",
       "    </tr>\n",
       "    <tr>\n",
       "      <th>6</th>\n",
       "      <td>6</td>\n",
       "      <td>1116205</td>\n",
       "      <td>ad</td>\n",
       "      <td>False</td>\n",
       "      <td>264</td>\n",
       "      <td>Wednesday</td>\n",
       "      <td>13</td>\n",
       "    </tr>\n",
       "    <tr>\n",
       "      <th>7</th>\n",
       "      <td>7</td>\n",
       "      <td>1496843</td>\n",
       "      <td>ad</td>\n",
       "      <td>False</td>\n",
       "      <td>17</td>\n",
       "      <td>Sunday</td>\n",
       "      <td>18</td>\n",
       "    </tr>\n",
       "    <tr>\n",
       "      <th>8</th>\n",
       "      <td>8</td>\n",
       "      <td>1448851</td>\n",
       "      <td>ad</td>\n",
       "      <td>False</td>\n",
       "      <td>21</td>\n",
       "      <td>Tuesday</td>\n",
       "      <td>19</td>\n",
       "    </tr>\n",
       "    <tr>\n",
       "      <th>9</th>\n",
       "      <td>9</td>\n",
       "      <td>1446284</td>\n",
       "      <td>ad</td>\n",
       "      <td>False</td>\n",
       "      <td>142</td>\n",
       "      <td>Monday</td>\n",
       "      <td>14</td>\n",
       "    </tr>\n",
       "    <tr>\n",
       "      <th>10</th>\n",
       "      <td>10</td>\n",
       "      <td>1257223</td>\n",
       "      <td>ad</td>\n",
       "      <td>False</td>\n",
       "      <td>209</td>\n",
       "      <td>Wednesday</td>\n",
       "      <td>11</td>\n",
       "    </tr>\n",
       "    <tr>\n",
       "      <th>11</th>\n",
       "      <td>11</td>\n",
       "      <td>1637531</td>\n",
       "      <td>ad</td>\n",
       "      <td>False</td>\n",
       "      <td>47</td>\n",
       "      <td>Wednesday</td>\n",
       "      <td>13</td>\n",
       "    </tr>\n",
       "    <tr>\n",
       "      <th>12</th>\n",
       "      <td>12</td>\n",
       "      <td>1081965</td>\n",
       "      <td>ad</td>\n",
       "      <td>False</td>\n",
       "      <td>61</td>\n",
       "      <td>Tuesday</td>\n",
       "      <td>20</td>\n",
       "    </tr>\n",
       "    <tr>\n",
       "      <th>13</th>\n",
       "      <td>13</td>\n",
       "      <td>1037215</td>\n",
       "      <td>ad</td>\n",
       "      <td>False</td>\n",
       "      <td>40</td>\n",
       "      <td>Friday</td>\n",
       "      <td>13</td>\n",
       "    </tr>\n",
       "    <tr>\n",
       "      <th>14</th>\n",
       "      <td>14</td>\n",
       "      <td>1535652</td>\n",
       "      <td>ad</td>\n",
       "      <td>False</td>\n",
       "      <td>20</td>\n",
       "      <td>Tuesday</td>\n",
       "      <td>19</td>\n",
       "    </tr>\n",
       "    <tr>\n",
       "      <th>15</th>\n",
       "      <td>15</td>\n",
       "      <td>1461774</td>\n",
       "      <td>ad</td>\n",
       "      <td>True</td>\n",
       "      <td>9</td>\n",
       "      <td>Wednesday</td>\n",
       "      <td>18</td>\n",
       "    </tr>\n",
       "    <tr>\n",
       "      <th>16</th>\n",
       "      <td>16</td>\n",
       "      <td>1492276</td>\n",
       "      <td>ad</td>\n",
       "      <td>False</td>\n",
       "      <td>64</td>\n",
       "      <td>Tuesday</td>\n",
       "      <td>12</td>\n",
       "    </tr>\n",
       "    <tr>\n",
       "      <th>17</th>\n",
       "      <td>17</td>\n",
       "      <td>1118924</td>\n",
       "      <td>ad</td>\n",
       "      <td>False</td>\n",
       "      <td>26</td>\n",
       "      <td>Wednesday</td>\n",
       "      <td>11</td>\n",
       "    </tr>\n",
       "    <tr>\n",
       "      <th>18</th>\n",
       "      <td>18</td>\n",
       "      <td>900681</td>\n",
       "      <td>psa</td>\n",
       "      <td>False</td>\n",
       "      <td>248</td>\n",
       "      <td>Saturday</td>\n",
       "      <td>19</td>\n",
       "    </tr>\n",
       "    <tr>\n",
       "      <th>19</th>\n",
       "      <td>19</td>\n",
       "      <td>1053783</td>\n",
       "      <td>ad</td>\n",
       "      <td>False</td>\n",
       "      <td>73</td>\n",
       "      <td>Friday</td>\n",
       "      <td>19</td>\n",
       "    </tr>\n",
       "  </tbody>\n",
       "</table>\n",
       "</div>"
      ],
      "text/plain": [
       "    Unnamed: 0  user id test group  converted  total ads most ads day  \\\n",
       "0            0  1069124         ad      False        130       Monday   \n",
       "1            1  1119715         ad      False         93      Tuesday   \n",
       "2            2  1144181         ad      False         21      Tuesday   \n",
       "3            3  1435133         ad      False        355      Tuesday   \n",
       "4            4  1015700         ad      False        276       Friday   \n",
       "5            5  1137664         ad      False        734     Saturday   \n",
       "6            6  1116205         ad      False        264    Wednesday   \n",
       "7            7  1496843         ad      False         17       Sunday   \n",
       "8            8  1448851         ad      False         21      Tuesday   \n",
       "9            9  1446284         ad      False        142       Monday   \n",
       "10          10  1257223         ad      False        209    Wednesday   \n",
       "11          11  1637531         ad      False         47    Wednesday   \n",
       "12          12  1081965         ad      False         61      Tuesday   \n",
       "13          13  1037215         ad      False         40       Friday   \n",
       "14          14  1535652         ad      False         20      Tuesday   \n",
       "15          15  1461774         ad       True          9    Wednesday   \n",
       "16          16  1492276         ad      False         64      Tuesday   \n",
       "17          17  1118924         ad      False         26    Wednesday   \n",
       "18          18   900681        psa      False        248     Saturday   \n",
       "19          19  1053783         ad      False         73       Friday   \n",
       "\n",
       "    most ads hour  \n",
       "0              20  \n",
       "1              22  \n",
       "2              18  \n",
       "3              10  \n",
       "4              14  \n",
       "5              10  \n",
       "6              13  \n",
       "7              18  \n",
       "8              19  \n",
       "9              14  \n",
       "10             11  \n",
       "11             13  \n",
       "12             20  \n",
       "13             13  \n",
       "14             19  \n",
       "15             18  \n",
       "16             12  \n",
       "17             11  \n",
       "18             19  \n",
       "19             19  "
      ]
     },
     "execution_count": 10,
     "metadata": {},
     "output_type": "execute_result"
    }
   ],
   "source": [
    "# Load data (ensure CSV is in your working directory)\n",
    "data = pd.read_csv(\"./data/marketing_AB.csv\")  # Download from Kaggle first!\n",
    "\n",
    "data.head(20)"
   ]
  },
  {
   "cell_type": "code",
   "execution_count": 11,
   "id": "dc6cb6a9",
   "metadata": {},
   "outputs": [
    {
     "name": "stdout",
     "output_type": "stream",
     "text": [
      "<class 'pandas.core.frame.DataFrame'>\n",
      "RangeIndex: 588101 entries, 0 to 588100\n",
      "Data columns (total 7 columns):\n",
      " #   Column         Non-Null Count   Dtype \n",
      "---  ------         --------------   ----- \n",
      " 0   Unnamed: 0     588101 non-null  int64 \n",
      " 1   user id        588101 non-null  int64 \n",
      " 2   test group     588101 non-null  object\n",
      " 3   converted      588101 non-null  bool  \n",
      " 4   total ads      588101 non-null  int64 \n",
      " 5   most ads day   588101 non-null  object\n",
      " 6   most ads hour  588101 non-null  int64 \n",
      "dtypes: bool(1), int64(4), object(2)\n",
      "memory usage: 27.5+ MB\n"
     ]
    }
   ],
   "source": [
    "data.info()"
   ]
  },
  {
   "cell_type": "code",
   "execution_count": 12,
   "id": "ef08068e",
   "metadata": {},
   "outputs": [
    {
     "data": {
      "text/plain": [
       "array(['ad', 'psa'], dtype=object)"
      ]
     },
     "execution_count": 12,
     "metadata": {},
     "output_type": "execute_result"
    }
   ],
   "source": [
    "data[\"test group\"].unique()"
   ]
  },
  {
   "cell_type": "code",
   "execution_count": 13,
   "id": "002a4ed8",
   "metadata": {},
   "outputs": [
    {
     "name": "stdout",
     "output_type": "stream",
     "text": [
      "psa count: 23524\n",
      "ad count: 564577\n",
      "Total =  588101\n",
      "----------\n",
      "total converted: 14843\n",
      "total did not convert: 573258\n"
     ]
    }
   ],
   "source": [
    "psa = (data[\"test group\"] == \"psa\").sum()\n",
    "print(\"psa count:\", psa)\n",
    "ad = (data[\"test group\"] == \"ad\").sum()\n",
    "print(\"ad count:\", ad)\n",
    "\n",
    "print(\"Total = \", ad + psa)\n",
    "print(\"----------\")\n",
    "\n",
    "yes_convert = (data[\"converted\"] == True).sum()\n",
    "print(\"total converted:\", yes_convert)\n",
    "no_convert = (data[\"converted\"] == False).sum()\n",
    "print(\"total did not convert:\", no_convert)\n"
   ]
  },
  {
   "cell_type": "markdown",
   "id": "16057220",
   "metadata": {},
   "source": [
    "📊 Part 1: Traditional A/B Test\n",
    "> Calculate Conversion Rates"
   ]
  },
  {
   "cell_type": "code",
   "execution_count": 14,
   "id": "56fab67b",
   "metadata": {},
   "outputs": [
    {
     "name": "stdout",
     "output_type": "stream",
     "text": [
      "converted    False  True \n",
      "test group               \n",
      "ad          550154  14423\n",
      "psa          23104    420\n"
     ]
    }
   ],
   "source": [
    "table = pd.crosstab(data[\"test group\"], data[\"converted\"])\n",
    "\n",
    "print(table)"
   ]
  },
  {
   "cell_type": "code",
   "execution_count": 15,
   "id": "7f19b99f",
   "metadata": {},
   "outputs": [
    {
     "name": "stdout",
     "output_type": "stream",
     "text": [
      "Conversions:\n",
      " test group\n",
      "ad     14423\n",
      "psa      420\n",
      "Name: True, dtype: int64\n",
      "\n",
      "Totals:\n",
      " test group\n",
      "ad     564577\n",
      "psa     23524\n",
      "dtype: int64\n",
      "\n",
      "Conversion rates (%):\n",
      " test group\n",
      "ad     2.55\n",
      "psa    1.79\n",
      "dtype: float64\n"
     ]
    }
   ],
   "source": [
    "# Conversion counts (True column) and totals\n",
    "conversions = table[True]\n",
    "totals = table.sum(axis=1)\n",
    "\n",
    "# Conversion rates\n",
    "rates = conversions / totals\n",
    "\n",
    "print(\"Conversions:\\n\", conversions)\n",
    "print(\"\\nTotals:\\n\", totals)\n",
    "print(\"\\nConversion rates (%):\\n\", (rates * 100).round(2))\n"
   ]
  },
  {
   "cell_type": "markdown",
   "id": "a1321446",
   "metadata": {},
   "source": [
    "> Statistical Test"
   ]
  },
  {
   "cell_type": "code",
   "execution_count": 16,
   "id": "decf60de",
   "metadata": {},
   "outputs": [
    {
     "name": "stdout",
     "output_type": "stream",
     "text": [
      "p value is 1.9989623063390078e-13\n",
      "H1(alternative): reject H0, statistically significant difference in converstion rates.\n"
     ]
    }
   ],
   "source": [
    "stat, p, dof, expected = chi2_contingency(table)\n",
    "\n",
    "# interpret p-value\n",
    "alpha = 0.05\n",
    "print(\"p value is \" + str(p))\n",
    "if p <= alpha:\n",
    "    print('H1(alternative): reject H0, statistically significant difference in converstion rates.')\n",
    "else:\n",
    "    print('H0(null): The conversion rate is independent of group (PSA vs Ad).')"
   ]
  },
  {
   "cell_type": "markdown",
   "id": "7dd2ccd0",
   "metadata": {},
   "source": [
    "#### EXTRA 📈 Part 2: Bootstrapping Challenge\n",
    "**Why Bootstrapping?**\n",
    " - Bootstrapping helps estimate confidence intervals for conversion rates by resampling data.\n",
    "\n",
    "> Bootstrap Function"
   ]
  },
  {
   "cell_type": "code",
   "execution_count": 35,
   "id": "1ad5d36a",
   "metadata": {},
   "outputs": [
    {
     "name": "stdout",
     "output_type": "stream",
     "text": [
      "Observed difference (psa − ad): -0.007692453192201517\n",
      "95% CI: (np.float64(-0.009439161981139652), np.float64(-0.005958364452207205))\n",
      "Bootstrap p-value: 0.0\n"
     ]
    }
   ],
   "source": [
    "def bootstrap_diff_proportions_fast(clicks_a, total_a, clicks_b, total_b,\n",
    "                                    iters=5000, alpha=0.05, seed=42):\n",
    "    rng = np.random.default_rng(seed)\n",
    "\n",
    "    # observed rates and observed difference (B - A as you wrote before)\n",
    "    p_a = clicks_a / total_a\n",
    "    p_b = clicks_b / total_b\n",
    "    obs = p_b - p_a\n",
    "\n",
    "    # --- CI via parametric bootstrap around observed rates (what you already had)\n",
    "    ctr_a = rng.binomial(total_a, p_a, size=iters) / total_a\n",
    "    ctr_b = rng.binomial(total_b, p_b, size=iters) / total_b\n",
    "    diffs = ctr_b - ctr_a\n",
    "    lo, hi = np.percentile(diffs, [100*alpha/2, 100*(1-alpha/2)])\n",
    "\n",
    "    # --- p-value via null-based bootstrap (pooled rate)\n",
    "    pooled_p = (clicks_a + clicks_b) / (total_a + total_b)\n",
    "    null_a = rng.binomial(total_a, pooled_p, size=iters) / total_a\n",
    "    null_b = rng.binomial(total_b, pooled_p, size=iters) / total_b\n",
    "    null_diffs = null_b - null_a\n",
    "    p_boot = (np.abs(null_diffs) >= abs(obs)).mean()\n",
    "\n",
    "    return obs, (lo, hi), p_boot\n",
    "\n",
    "\n",
    "obs, ci, p = bootstrap_diff_proportions_fast(\n",
    "    clicks_a=14423, total_a=564577,\n",
    "    clicks_b=420,   total_b=23524,\n",
    "    iters=5000\n",
    ")\n",
    "print(\"Observed difference (psa − ad):\", obs)\n",
    "print(\"95% CI:\", ci)\n",
    "print(\"Bootstrap p-value:\", p)\n"
   ]
  },
  {
   "cell_type": "markdown",
   "id": "e9015c19",
   "metadata": {},
   "source": [
    ">Visualize Resultsm"
   ]
  },
  {
   "cell_type": "code",
   "execution_count": 39,
   "id": "8a737b3f",
   "metadata": {},
   "outputs": [
    {
     "data": {
      "image/png": "[encoded data removed]",
      "text/plain": [
       "<Figure size 800x500 with 1 Axes>"
      ]
     },
     "metadata": {},
     "output_type": "display_data"
    },
    {
     "name": "stdout",
     "output_type": "stream",
     "text": [
      "Observed diff (B−A): -0.7692%\n",
      "95% CI: [-0.9439%, -0.5958%]\n",
      "Bootstrap p-value: 0\n"
     ]
    }
   ],
   "source": [
    "import numpy as np\n",
    "import matplotlib.pyplot as plt\n",
    "\n",
    "def bootstrap_plot_ab(clicks_a, total_a, clicks_b, total_b, iters=5000, alpha=0.05, seed=42):\n",
    "    rng = np.random.default_rng(seed)\n",
    "\n",
    "    # observed rates (report B − A)\n",
    "    p_a = clicks_a / total_a\n",
    "    p_b = clicks_b / total_b\n",
    "    obs = p_b - p_a\n",
    "\n",
    "    # CI via parametric bootstrap around observed rates\n",
    "    ctr_a = rng.binomial(total_a, p_a, size=iters) / total_a\n",
    "    ctr_b = rng.binomial(total_b, p_b, size=iters) / total_b\n",
    "    diffs = ctr_b - ctr_a\n",
    "    lo, hi = np.percentile(diffs, [100*alpha/2, 100*(1-alpha/2)])\n",
    "\n",
    "    # p-value via null-pooled bootstrap (H0: p_a == p_b)\n",
    "    pooled_p = (clicks_a + clicks_b) / (total_a + total_b)\n",
    "    null_a = rng.binomial(total_a, pooled_p, size=iters) / total_a\n",
    "    null_b = rng.binomial(total_b, pooled_p, size=iters) / total_b\n",
    "    null_diffs = null_b - null_a\n",
    "    p_boot = (np.abs(null_diffs) >= abs(obs)).mean()\n",
    "\n",
    "    # ---- visualize\n",
    "    plt.figure(figsize=(8,5))\n",
    "    plt.hist(diffs, bins=60, alpha=0.6, density=True, label=\"Bootstrap diffs (around observed)\")\n",
    "    plt.hist(null_diffs, bins=60, alpha=0.4, density=True, label=\"Null diffs (pooled H0)\")\n",
    "    plt.axvline(obs, linestyle=\"--\", linewidth=2, label=f\"Observed diff = {obs:.4%}\")\n",
    "    plt.axvline(lo, linestyle=\":\", linewidth=2, label=f\"95% CI low = {lo:.4%}\")\n",
    "    plt.axvline(hi, linestyle=\":\", linewidth=2, label=f\"95% CI high = {hi:.4%}\")\n",
    "    plt.title(\"Difference in conversion rate (B − A)\")\n",
    "    plt.xlabel(\"Difference\")\n",
    "    plt.ylabel(\"Density\")\n",
    "    plt.legend()\n",
    "    plt.show()\n",
    "\n",
    "    return obs, (lo, hi), p_boot\n",
    "\n",
    "# --- If you already have the crosstab `table` with columns [False, True] and index ['ad','psa'] ---\n",
    "# conversions (True) and totals per group\n",
    "conv = table[True]\n",
    "nobs = table.sum(axis=1)\n",
    "\n",
    "# A = ad, B = psa  (diff will be PSA − Ad; flip if you prefer the opposite)\n",
    "obs, ci, p = bootstrap_plot_ab(\n",
    "    clicks_a=int(conv['ad']),   total_a=int(nobs['ad']),\n",
    "    clicks_b=int(conv['psa']),  total_b=int(nobs['psa']),\n",
    "    iters=5000, alpha=0.05, seed=42\n",
    ")\n",
    "\n",
    "print(f\"Observed diff (B−A): {obs:.4%}\")\n",
    "print(f\"95% CI: [{ci[0]:.4%}, {ci[1]:.4%}]\")\n",
    "print(f\"Bootstrap p-value: {p:.4g}\")\n"
   ]
  },
  {
   "cell_type": "markdown",
   "id": "f4e2aec7",
   "metadata": {},
   "source": [
    "## (Bonus) Challenge 3: 🎮 Advanced A/B Testing Challenge: Cookie Cats Retention Analysis "
   ]
  },
  {
   "cell_type": "markdown",
   "id": "aa0a8423",
   "metadata": {},
   "source": [
    "#### **Objective**:  \n",
    "1. Analyze player **retention rates** in the `cookie_cats` mobile game A/B test.  \n",
    "2. Implement **sequential testing** (to avoid peeking at results prematurely).  \n",
    "3. Conduct **power analysis** to determine optimal sample size.  \n",
    "\n",
    "### **Problem Statement**  \n",
    "Analyze the [Cookie Cats dataset](https://www.kaggle.com/datasets/yufengsui/mobile-games-ab-testing) to determine if moving the game’s first gate from level 30 (`gate_30`) to level 40 (`gate_40`) affects player retention.  \n",
    "\n",
    "### **Tasks**  \n",
    "1. **Retention Analysis**:  \n",
    "   - Compare **1-day retention rates** between `gate_30` and `gate_40` using a Z-test.  \n",
    "2. **Sequential Testing**:  \n",
    "   - Simulate checking results at intervals (every 500 users) to avoid \"peeking bias.\"  \n",
    "3. **Power Analysis**:  \n",
    "   - Calculate the required sample size to detect a 2% difference in retention (α = 0.05, power = 0.8).  \n",
    "4. **Optional**:  \n",
    "   - Repeat analysis for **7-day retention**.  \n",
    "\n",
    "**Deliverables**:  \n",
    "- Code for retention comparison, sequential testing, and power analysis.  \n",
    "- Written summary:  \n",
    "  - Does `gate_40` significantly impact retention?  \n",
    "  - How does sequential testing affect decision-making?  "
   ]
  },
  {
   "cell_type": "markdown",
   "id": "167d7506",
   "metadata": {},
   "source": [
    "\n",
    "\n",
    "### 🛠 **Setup & Data Loading**  \n"
   ]
  },
  {
   "cell_type": "code",
   "execution_count": 19,
   "id": "204f33c6",
   "metadata": {},
   "outputs": [],
   "source": [
    "# Import Libraries"
   ]
  },
  {
   "cell_type": "code",
   "execution_count": 20,
   "id": "9bf078ee",
   "metadata": {},
   "outputs": [],
   "source": [
    "# Load dataset \n",
    "data = pd.read_csv(\"./data/cookie_cats.csv\")  # Columns: userid, version, sum_gamerounds, retention_1, retention_7"
   ]
  },
  {
   "cell_type": "markdown",
   "id": "2ea7a8be",
   "metadata": {},
   "source": []
  },
  {
   "cell_type": "markdown",
   "id": "edcbe2d5",
   "metadata": {},
   "source": [
    "📊 Part 1: Retention Rate Analysis\n",
    "> Compare 1-Day Retention"
   ]
  },
  {
   "cell_type": "code",
   "execution_count": 21,
   "id": "25577893",
   "metadata": {},
   "outputs": [],
   "source": [
    "# TODO\n",
    "# Insert your code HERE"
   ]
  },
  {
   "cell_type": "markdown",
   "id": "d60c1de3",
   "metadata": {},
   "source": [
    "> Statistical Test"
   ]
  },
  {
   "cell_type": "code",
   "execution_count": 22,
   "id": "119db7c3",
   "metadata": {},
   "outputs": [],
   "source": [
    "# TODO\n",
    "# Insert your code HERE"
   ]
  },
  {
   "cell_type": "markdown",
   "id": "8033db00",
   "metadata": {},
   "source": []
  },
  {
   "cell_type": "markdown",
   "id": "4aad973a",
   "metadata": {},
   "source": [
    "📈 Part 2: Sequential Testing\n",
    ">  Why Sequential Testing?\n",
    "\n",
    "- Avoids \"peeking\" at results prematurely by checking at intervals."
   ]
  },
  {
   "cell_type": "code",
   "execution_count": 23,
   "id": "04f99261",
   "metadata": {},
   "outputs": [],
   "source": [
    "# TODO\n",
    "# Insert your code HERE"
   ]
  },
  {
   "cell_type": "markdown",
   "id": "44abb17b",
   "metadata": {},
   "source": [
    "⚡ Part 3: Power Analysis\n",
    ">  Determine Required Sample Size"
   ]
  },
  {
   "cell_type": "code",
   "execution_count": 24,
   "id": "7906bad8",
   "metadata": {},
   "outputs": [],
   "source": [
    "# TODO\n",
    "# Insert your code HERE"
   ]
  },
  {
   "cell_type": "markdown",
   "id": "f62d1be7",
   "metadata": {},
   "source": [
    "Enjoy & Happy A/B Testing :) ......!"
   ]
  },
  {
   "cell_type": "markdown",
   "id": "43332a5a",
   "metadata": {},
   "source": []
  },
  {
   "cell_type": "markdown",
   "id": "9bbc500f",
   "metadata": {},
   "source": []
  }
 ],
 "metadata": {
  "kernelspec": {
   "display_name": "Python 3",
   "language": "python",
   "name": "python3"
  },
  "language_info": {
   "codemirror_mode": {
    "name": "ipython",
    "version": 3
   },
   "file_extension": ".py",
   "mimetype": "text/x-python",
   "name": "python",
   "nbconvert_exporter": "python",
   "pygments_lexer": "ipython3",
   "version": "3.13.3"
  }
 },
 "nbformat": 4,
 "nbformat_minor": 5
}
